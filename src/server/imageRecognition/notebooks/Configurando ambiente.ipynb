{
 "cells": [
  {
   "cell_type": "code",
   "execution_count": null,
   "id": "fe0ac765",
   "metadata": {},
   "outputs": [],
   "source": [
    "!pip install wget\n",
    "!pip install numpy\n",
    "!pip install Cython"
   ]
  },
  {
   "cell_type": "code",
   "execution_count": null,
   "id": "1b7a295a",
   "metadata": {},
   "outputs": [],
   "source": [
    "import os\n",
    "\n",
    "!mkdir {os.path.join(\"dataset\", \"train\")}\n",
    "!mkdir {os.path.join(\"dataset\", \"test\")}\n",
    "!mkdir {os.path.join(\"dependencies\", \"preTrainedModels\")}\n",
    "!mkdir {os.path.join(\"dependencies\", \"object_detection\")}\n",
    "!mkdir {os.path.join(\"dependencies\", \"protoc\")}\n",
    "!mkdir {os.path.join(\"dependencies\", \"tensorflowRecords\")}"
   ]
  },
  {
   "cell_type": "code",
   "execution_count": null,
   "id": "eee293c0",
   "metadata": {},
   "outputs": [],
   "source": [
    "!git clone https://github.com/tensorflow/models dependencies/object_detection"
   ]
  },
  {
   "cell_type": "code",
   "execution_count": null,
   "id": "553dc68e",
   "metadata": {},
   "outputs": [],
   "source": [
    "!pip install tensorflow\n",
    "!pip install scipy\n",
    "!pip install tensorflow_io\n",
    "!pip install matplotlib\n",
    "!pip install tf-models-official\n",
    "!pip install pytz\n",
    "!pip install gin-config==0.1.1"
   ]
  },
  {
   "cell_type": "code",
   "execution_count": null,
   "id": "7db5fc9e",
   "metadata": {},
   "outputs": [],
   "source": [
    "import wget\n",
    "import os\n",
    "\n",
    "url=\"https://github.com/protocolbuffers/protobuf/releases/download/v3.15.6/protoc-3.15.6-win64.zip\"\n",
    "wget.download(url)\n",
    "!move protoc-3.15.6-win64.zip dependencies/protoc\n",
    "!cd dependencies/protoc && tar -xf protoc-3.15.6-win64.zip\n",
    "os.environ['PATH'] += os.pathsep + os.path.abspath(os.path.join(\"dependencies\", \"protoc\", 'bin'))\n",
    "!cd dependencies/object_detection/research && protoc object_detection/protos/*.proto --python_out=. && copy object_detection\\\\packages\\\\tf2\\\\setup.py setup.py && python setup.py build && python setup.py install\n",
    "!cd dependencies/object_detection/research/slim && pip install -e ."
   ]
  },
  {
   "cell_type": "code",
   "execution_count": null,
   "id": "94c177d7",
   "metadata": {},
   "outputs": [],
   "source": [
    "# Deve aparecer \"OK (skipped=1)\" no final\n",
    "!python dependencies/object_detection/research/object_detection/builders/model_builder_tf2_test.py"
   ]
  },
  {
   "cell_type": "code",
   "execution_count": null,
   "id": "862b1e8f",
   "metadata": {},
   "outputs": [],
   "source": [
    "import object_detection"
   ]
  },
  {
   "cell_type": "code",
   "execution_count": null,
   "id": "ca7c787d",
   "metadata": {},
   "outputs": [],
   "source": [
    "# https://github.com/tensorflow/models/blob/master/research/object_detection/g3doc/tf2_detection_zoo.md\n",
    "preTrainedModelDownloadLink = \"http://download.tensorflow.org/models/object_detection/tf2/20200711/ssd_mobilenet_v2_fpnlite_320x320_coco17_tpu-8.tar.gz\"\n",
    "preTrainedModelName = \"ssd_mobilenet_v2_fpnlite_320x320_coco17_tpu-8\"\n",
    "folderName = 'dependencies/preTrainedModels/' + preTrainedModelName"
   ]
  },
  {
   "cell_type": "code",
   "execution_count": null,
   "id": "4f6906c5",
   "metadata": {},
   "outputs": [],
   "source": [
    "import wget\n",
    "\n",
    "wget.download(preTrainedModelDownloadLink)\n",
    "\n",
    "!cd dependencies/preTrainedModels && mkdir {preTrainedModelName}\n",
    "!move {preTrainedModelName + '.tar.gz'} {'dependencies/preTrainedModels/' + preTrainedModelName + '/' + preTrainedModelName + '.tar.gz'}\n",
    "!cd {'dependencies/preTrainedModels/' + preTrainedModelName} && tar -zxvf {preTrainedModelName + '.tar.gz'}"
   ]
  },
  {
   "cell_type": "code",
   "execution_count": null,
   "id": "a480d2f9",
   "metadata": {},
   "outputs": [],
   "source": [
    "labels = [{'name':'soy', 'id':1}, {'name':'pod', 'id':2}]\n",
    "\n",
    "with open('label_map.pbtxt', 'w') as f:\n",
    "    for label in labels:\n",
    "        f.write('item { \\n')\n",
    "        f.write('\\tname:\\'{}\\'\\n'.format(label['name']))\n",
    "        f.write('\\tid:{}\\n'.format(label['id']))\n",
    "        f.write('}\\n')"
   ]
  },
  {
   "cell_type": "code",
   "execution_count": null,
   "id": "bca54411",
   "metadata": {},
   "outputs": [],
   "source": [
    "!git clone https://github.com/nicknochnack/GenerateTFRecord {\"dependencies/tensorflowRecords\"}"
   ]
  },
  {
   "cell_type": "code",
   "execution_count": null,
   "id": "d518bcee",
   "metadata": {},
   "outputs": [],
   "source": [
    "!python {\"dependencies/tensorflowRecords/generate_tfrecord.py\"} -x {\"dataset/train\"} -l {\"label_map.pbtxt\"} -o {\"dataset/train.record\"}\n",
    "!python {\"dependencies/tensorflowRecords/generate_tfrecord.py\"} -x {\"dataset/test\"} -l {\"label_map.pbtxt\"} -o {\"dataset/test.record\"}"
   ]
  },
  {
   "cell_type": "code",
   "execution_count": null,
   "id": "88341b84",
   "metadata": {},
   "outputs": [],
   "source": [
    "!copy {os.path.join(\"dependencies\", \"preTrainedModels\", preTrainedModelName, preTrainedModelName, \"pipeline.config\")} {os.path.join(\"models\", preTrainedModelName)}"
   ]
  },
  {
   "cell_type": "code",
   "execution_count": null,
   "id": "13738932",
   "metadata": {},
   "outputs": [],
   "source": [
    "import tensorflow as tf\n",
    "from object_detection.utils import config_util\n",
    "from object_detection.protos import pipeline_pb2\n",
    "from google.protobuf import text_format"
   ]
  },
  {
   "cell_type": "code",
   "execution_count": null,
   "id": "cc645582",
   "metadata": {},
   "outputs": [],
   "source": [
    "configurationFile = os.path.join(\"models\", preTrainedModelName, \"pipeline.config\")\n",
    "labelMap = 'label_map.pbtxt'\n",
    "preTrainedModelPath = os.path.join('dependencies', 'preTrainedModels', preTrainedModelName, preTrainedModelName)\n",
    "labels = [{'name':'soy', 'id':1}, {'name':'pod', 'id':2}]\n",
    "\n",
    "config = config_util.get_configs_from_pipeline_file(configurationFile)\n",
    "\n",
    "pipeline_config = pipeline_pb2.TrainEvalPipelineConfig()\n",
    "with tf.io.gfile.GFile(configurationFile, \"r\") as f:\n",
    "    proto_str = f.read()\n",
    "    text_format.Merge(proto_str, pipeline_config)\n",
    "    \n",
    "pipeline_config.model.ssd.num_classes = len(labels)\n",
    "pipeline_config.train_config.batch_size = 2\n",
    "pipeline_config.train_config.fine_tune_checkpoint = os.path.join(preTrainedModelPath, 'checkpoint', 'ckpt-0')\n",
    "pipeline_config.train_config.fine_tune_checkpoint_type = \"detection\"\n",
    "pipeline_config.train_input_reader.label_map_path= labelMap\n",
    "pipeline_config.train_input_reader.tf_record_input_reader.input_path[:] = [os.path.join(\"dataset\", 'train.record')]\n",
    "pipeline_config.eval_input_reader[0].label_map_path = labelMap\n",
    "pipeline_config.eval_input_reader[0].tf_record_input_reader.input_path[:] = [os.path.join(\"dataset\", 'test.record')]\n",
    "\n",
    "config_text = text_format.MessageToString(pipeline_config)\n",
    "\n",
    "with tf.io.gfile.GFile(configurationFile, \"wb\") as f:                                                                                                                                                                                                                     \n",
    "    f.write(config_text)"
   ]
  },
  {
   "cell_type": "code",
   "execution_count": null,
   "id": "81b0d678",
   "metadata": {},
   "outputs": [],
   "source": [
    "trainingScriptPath = os.path.join(\"dependencies\", \"object_detection\", 'research', 'object_detection', 'model_main_tf2.py')"
   ]
  },
  {
   "cell_type": "code",
   "execution_count": null,
   "id": "80346f5a",
   "metadata": {},
   "outputs": [],
   "source": [
    "# Copie o comando imprimido e abra um CMD no diretório notebooks, ative a venv e execute o comando\n",
    "command = \"python {} --model_dir={} --pipeline_config_path={} --num_train_steps=500\".format(trainingScriptPath, os.path.join(\"models\", preTrainedModelName), configurationFile)\n",
    "\n",
    "print(command)"
   ]
  },
  {
   "cell_type": "code",
   "execution_count": null,
   "id": "a9253bca",
   "metadata": {},
   "outputs": [],
   "source": [
    "# Copie o comando imprimido e abra um CMD no diretório notebooks, ative a venv e execute o comando\n",
    "\n",
    "command = \"python {} --model_dir={} --pipeline_config_path={} --checkpoint_dir={}\".format(trainingScriptPath, os.path.join(\"models\", preTrainedModelName), configurationFile, os.path.join(\"models\", preTrainedModelName))\n",
    "\n",
    "print(command)"
   ]
  },
  {
   "cell_type": "code",
   "execution_count": null,
   "id": "b9cfe4bb",
   "metadata": {},
   "outputs": [],
   "source": []
  }
 ],
 "metadata": {
  "kernelspec": {
   "display_name": "Python 3 (ipykernel)",
   "language": "python",
   "name": "python3"
  },
  "language_info": {
   "codemirror_mode": {
    "name": "ipython",
    "version": 3
   },
   "file_extension": ".py",
   "mimetype": "text/x-python",
   "name": "python",
   "nbconvert_exporter": "python",
   "pygments_lexer": "ipython3",
   "version": "3.10.6"
  }
 },
 "nbformat": 4,
 "nbformat_minor": 5
}
